{
 "cells": [
  {
   "cell_type": "markdown",
   "metadata": {},
   "source": [
    "Talk to prediction API:"
   ]
  },
  {
   "cell_type": "code",
   "execution_count": 1,
   "metadata": {},
   "outputs": [
    {
     "name": "stdout",
     "output_type": "stream",
     "text": [
      "--2018-12-31 10:42:52--  http://api/predict/1.1\n",
      "Resolving api (api)... 172.19.0.2\n",
      "Connecting to api (api)|172.19.0.2|:80... connected.\n",
      "HTTP request sent, awaiting response... 200 OK\n",
      "Length: unspecified\n",
      "Saving to: ‘1.1.3’\n",
      "\n",
      "1.1.3                   [ <=>                ]      19  --.-KB/s    in 0s      \n",
      "\n",
      "2018-12-31 10:42:52 (284 KB/s) - ‘1.1.3’ saved [19]\n",
      "\n"
     ]
    }
   ],
   "source": [
    "!wget http://api:80/predict/1.1"
   ]
  },
  {
   "cell_type": "code",
   "execution_count": 2,
   "metadata": {},
   "outputs": [
    {
     "name": "stdout",
     "output_type": "stream",
     "text": [
      "0.10000000000000009"
     ]
    }
   ],
   "source": [
    "!cat 1.1"
   ]
  }
 ],
 "metadata": {
  "kernelspec": {
   "display_name": "Python 3",
   "language": "python",
   "name": "python3"
  },
  "language_info": {
   "codemirror_mode": {
    "name": "ipython",
    "version": 3
   },
   "file_extension": ".py",
   "mimetype": "text/x-python",
   "name": "python",
   "nbconvert_exporter": "python",
   "pygments_lexer": "ipython3",
   "version": "3.6.7"
  }
 },
 "nbformat": 4,
 "nbformat_minor": 2
}
