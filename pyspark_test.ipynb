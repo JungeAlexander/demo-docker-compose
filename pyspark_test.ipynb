{
 "cells": [
  {
   "cell_type": "code",
   "execution_count": 1,
   "metadata": {},
   "outputs": [],
   "source": [
    "from pyspark.sql import SparkSession"
   ]
  },
  {
   "cell_type": "code",
   "execution_count": 2,
   "metadata": {},
   "outputs": [],
   "source": [
    "spark = SparkSession.builder.master(\"local\").appName(\"Test\").getOrCreate()"
   ]
  },
  {
   "cell_type": "code",
   "execution_count": 3,
   "metadata": {},
   "outputs": [],
   "source": [
    "df = spark.read.csv(\n",
    "    \"data/tox21/tox21.csv\", header=True,\n",
    ")"
   ]
  },
  {
   "cell_type": "code",
   "execution_count": 13,
   "metadata": {},
   "outputs": [
    {
     "data": {
      "text/plain": [
       "DataFrame[NR-AR: string, NR-AR-LBD: string, NR-AhR: string, NR-Aromatase: string, NR-ER: string, NR-ER-LBD: string, NR-PPAR-gamma: string, SR-ARE: string, SR-ATAD5: string, SR-HSE: string, SR-MMP: string, SR-p53: string, mol_id: string, smiles: string]"
      ]
     },
     "execution_count": 13,
     "metadata": {},
     "output_type": "execute_result"
    }
   ],
   "source": [
    "df"
   ]
  },
  {
   "cell_type": "markdown",
   "metadata": {},
   "source": [
    "### TODO: clean dtypes, load other datasets"
   ]
  },
  {
   "cell_type": "code",
   "execution_count": 5,
   "metadata": {},
   "outputs": [
    {
     "name": "stdout",
     "output_type": "stream",
     "text": [
      "+-----+---------+------+------------+-----+---------+-------------+------+--------+------+------+------+--------+--------------------+\n",
      "|NR-AR|NR-AR-LBD|NR-AhR|NR-Aromatase|NR-ER|NR-ER-LBD|NR-PPAR-gamma|SR-ARE|SR-ATAD5|SR-HSE|SR-MMP|SR-p53|  mol_id|              smiles|\n",
      "+-----+---------+------+------------+-----+---------+-------------+------+--------+------+------+------+--------+--------------------+\n",
      "|    0|        0|     1|        null| null|        0|            0|     1|       0|     0|     0|     0| TOX3021|CCOc1ccc2nc(S(N)(...|\n",
      "|    0|        0|     0|           0|    0|        0|            0|  null|       0|  null|     0|     0| TOX3020|CCN1C(=O)NC(c2ccc...|\n",
      "| null|     null|  null|        null| null|     null|         null|     0|    null|     0|  null|  null| TOX3024|CC[C@]1(O)CC[C@H]...|\n",
      "|    0|        0|     0|           0|    0|        0|            0|  null|       0|  null|     0|     0| TOX3027|CCCN(CC)C(CC)C(=O...|\n",
      "|    0|        0|     0|           0|    0|        0|            0|     0|       0|     0|     0|     0|TOX20800|CC(O)(P(=O)(O)O)P...|\n",
      "|    0|        0|     0|           0|    0|        0|            0|  null|       0|     0|     0|     0| TOX5110|CC(C)(C)OOC(C)(C)...|\n",
      "|    0|        0|     0|           0|    0|        0|            0|     0|       0|     0|     0|     0| TOX6619| O=S(=O)(Cl)c1ccccc1|\n",
      "|    0|     null|     0|        null|    1|     null|         null|     1|       0|     1|     0|     1|TOX25232|O=C(O)Cc1cc(I)c(O...|\n",
      "|    0|        0|     0|           0|    0|        0|            0|     0|       0|     0|  null|     0|TOX22514|OC[C@H](O)[C@@H](...|\n",
      "| null|     null|  null|        null| null|     null|         null|     0|    null|     0|  null|  null|TOX22517|CCCCCCCC(=O)[O-]....|\n",
      "|    0|        0|     0|        null|    0|        0|            0|  null|       0|  null|  null|     0|TOX25236|NC(=O)c1ccc[n+]([...|\n",
      "|    0|        0|  null|        null|    0|        0|            0|     0|       0|     0|     0|     0|TOX25238|O=c1[nH]c(=O)n([C...|\n",
      "|    0|        0|     0|           0|    0|        0|            0|     0|       0|     0|     0|     0| TOX6612|   CC(C)COC(=O)C(C)C|\n",
      "|    0|        0|     0|           0|    0|        0|            0|     0|       0|     0|     0|     0| TOX6615|C=C(C)C(=O)OCCOC(...|\n",
      "|    0|        0|     0|        null|    0|        0|         null|     1|       0|     0|     0|  null|TOX15748|Cl/C=C\\C[N+]12CN3...|\n",
      "|    0|        0|     0|           0|    0|        0|            1|     0|       0|     0|     0|     0|TOX14833|O=C([O-])Cc1cccc2...|\n",
      "|    0|        0|     0|        null|    0|     null|         null|  null|    null|     0|  null|  null|TOX26529|  CCCCCCCCCCOCC(O)CN|\n",
      "|    0|        0|     0|           0| null|        0|            0|  null|       0|  null|     0|     0|TOX26524|CCN(CC)C(=O)c1cccnc1|\n",
      "|    0|        0|  null|           0| null|     null|            0|  null|       0|     0|     0|     0|TOX26525|    COc1cc(O)cc(O)c1|\n",
      "| null|     null|  null|        null| null|     null|         null|     0|    null|     0|  null|  null|TOX26526|    CCOC(=O)c1cccnc1|\n",
      "+-----+---------+------+------------+-----+---------+-------------+------+--------+------+------+------+--------+--------------------+\n",
      "only showing top 20 rows\n",
      "\n"
     ]
    }
   ],
   "source": [
    "df.show()"
   ]
  },
  {
   "cell_type": "code",
   "execution_count": 4,
   "metadata": {},
   "outputs": [],
   "source": [
    "df.write.save(\"data/tox21/tox21.parquet\", format=\"parquet\")"
   ]
  },
  {
   "cell_type": "code",
   "execution_count": 9,
   "metadata": {},
   "outputs": [],
   "source": [
    "df = spark.read.load(\"data/tox21/tox21.parquet\", format=\"parquet\")"
   ]
  },
  {
   "cell_type": "code",
   "execution_count": 10,
   "metadata": {},
   "outputs": [],
   "source": [
    "df.createOrReplaceTempView(\"tox21\")"
   ]
  },
  {
   "cell_type": "code",
   "execution_count": 11,
   "metadata": {},
   "outputs": [],
   "source": [
    "s = spark.sql(\"\"\"\n",
    "SELECT * FROM tox21 LIMIT 5\"\"\")"
   ]
  },
  {
   "cell_type": "code",
   "execution_count": 12,
   "metadata": {},
   "outputs": [
    {
     "name": "stdout",
     "output_type": "stream",
     "text": [
      "+-----+---------+------+------------+-----+---------+-------------+------+--------+------+------+------+--------+--------------------+\n",
      "|NR-AR|NR-AR-LBD|NR-AhR|NR-Aromatase|NR-ER|NR-ER-LBD|NR-PPAR-gamma|SR-ARE|SR-ATAD5|SR-HSE|SR-MMP|SR-p53|  mol_id|              smiles|\n",
      "+-----+---------+------+------------+-----+---------+-------------+------+--------+------+------+------+--------+--------------------+\n",
      "|    0|        0|     1|        null| null|        0|            0|     1|       0|     0|     0|     0| TOX3021|CCOc1ccc2nc(S(N)(...|\n",
      "|    0|        0|     0|           0|    0|        0|            0|  null|       0|  null|     0|     0| TOX3020|CCN1C(=O)NC(c2ccc...|\n",
      "| null|     null|  null|        null| null|     null|         null|     0|    null|     0|  null|  null| TOX3024|CC[C@]1(O)CC[C@H]...|\n",
      "|    0|        0|     0|           0|    0|        0|            0|  null|       0|  null|     0|     0| TOX3027|CCCN(CC)C(CC)C(=O...|\n",
      "|    0|        0|     0|           0|    0|        0|            0|     0|       0|     0|     0|     0|TOX20800|CC(O)(P(=O)(O)O)P...|\n",
      "+-----+---------+------+------------+-----+---------+-------------+------+--------+------+------+------+--------+--------------------+\n",
      "\n"
     ]
    }
   ],
   "source": [
    "s.show()"
   ]
  }
 ],
 "metadata": {
  "kernelspec": {
   "display_name": "Python 3",
   "language": "python",
   "name": "python3"
  },
  "language_info": {
   "codemirror_mode": {
    "name": "ipython",
    "version": 3
   },
   "file_extension": ".py",
   "mimetype": "text/x-python",
   "name": "python",
   "nbconvert_exporter": "python",
   "pygments_lexer": "ipython3",
   "version": "3.7.3"
  }
 },
 "nbformat": 4,
 "nbformat_minor": 4
}
